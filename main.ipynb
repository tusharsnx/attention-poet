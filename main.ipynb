{
 "metadata": {
  "language_info": {
   "codemirror_mode": {
    "name": "ipython",
    "version": 3
   },
   "file_extension": ".py",
   "mimetype": "text/x-python",
   "name": "python",
   "nbconvert_exporter": "python",
   "pygments_lexer": "ipython3",
   "version": "3.8.10"
  },
  "orig_nbformat": 4,
  "kernelspec": {
   "name": "python3",
   "display_name": "Python 3.8.10 64-bit (windows store)"
  },
  "interpreter": {
   "hash": "9b7910a43f22d8687f0de6ecfce0c1865e7017eb5d643397fde905e2a9a5ff87"
  }
 },
 "nbformat": 4,
 "nbformat_minor": 2,
 "cells": [
  {
   "cell_type": "code",
   "execution_count": 1,
   "source": [
    "import tensorflow as tf\r\n",
    "import numpy as np\r\n",
    "import pandas as pd\r\n",
    "import seaborn as sns\r\n",
    "\r\n",
    "from model.preprocess import Preprocessor\r\n",
    "from model.callbacks import SeqGenerateCallback\r\n",
    "from model.model import Poet\r\n",
    "from model.metrics import MaskedAccuracy, MaskedLoss"
   ],
   "outputs": [],
   "metadata": {}
  },
  {
   "cell_type": "code",
   "execution_count": 2,
   "source": [
    "MAX_VOCAB_SIZE = 10000\r\n",
    "EMBEDDING_DIM = 200\r\n",
    "DFF = 512\r\n",
    "D_MODEL = 256\r\n",
    "MAX_SEQ_LEN = 10"
   ],
   "outputs": [],
   "metadata": {}
  },
  {
   "cell_type": "code",
   "execution_count": 3,
   "source": [
    "data = pd.read_csv(\"data.tsv\", sep=\"\\t\")"
   ],
   "outputs": [],
   "metadata": {}
  },
  {
   "cell_type": "code",
   "execution_count": 4,
   "source": [
    "data.head()"
   ],
   "outputs": [
    {
     "output_type": "execute_result",
     "data": {
      "text/plain": [
       "                       lines\n",
       "0    मैं तो केवल एक तथ्य हूं\n",
       "1   सदियों से बदनाम हुआ हूं \n",
       "2     किसी एक के नही सभी के \n",
       "3  हाथों से मै छला गया हूं ।\n",
       "4  भला ,बुरा ,बीता और गुजरा "
      ],
      "text/html": [
       "<div>\n",
       "<style scoped>\n",
       "    .dataframe tbody tr th:only-of-type {\n",
       "        vertical-align: middle;\n",
       "    }\n",
       "\n",
       "    .dataframe tbody tr th {\n",
       "        vertical-align: top;\n",
       "    }\n",
       "\n",
       "    .dataframe thead th {\n",
       "        text-align: right;\n",
       "    }\n",
       "</style>\n",
       "<table border=\"1\" class=\"dataframe\">\n",
       "  <thead>\n",
       "    <tr style=\"text-align: right;\">\n",
       "      <th></th>\n",
       "      <th>lines</th>\n",
       "    </tr>\n",
       "  </thead>\n",
       "  <tbody>\n",
       "    <tr>\n",
       "      <th>0</th>\n",
       "      <td>मैं तो केवल एक तथ्य हूं</td>\n",
       "    </tr>\n",
       "    <tr>\n",
       "      <th>1</th>\n",
       "      <td>सदियों से बदनाम हुआ हूं</td>\n",
       "    </tr>\n",
       "    <tr>\n",
       "      <th>2</th>\n",
       "      <td>किसी एक के नही सभी के</td>\n",
       "    </tr>\n",
       "    <tr>\n",
       "      <th>3</th>\n",
       "      <td>हाथों से मै छला गया हूं ।</td>\n",
       "    </tr>\n",
       "    <tr>\n",
       "      <th>4</th>\n",
       "      <td>भला ,बुरा ,बीता और गुजरा</td>\n",
       "    </tr>\n",
       "  </tbody>\n",
       "</table>\n",
       "</div>"
      ]
     },
     "metadata": {},
     "execution_count": 4
    }
   ],
   "metadata": {}
  },
  {
   "cell_type": "code",
   "execution_count": 5,
   "source": [
    "train_data = data.iloc[:-5, :]\r\n",
    "val_data = data.iloc[-5:, :]"
   ],
   "outputs": [],
   "metadata": {}
  },
  {
   "cell_type": "code",
   "execution_count": 6,
   "source": [
    "train_data.shape"
   ],
   "outputs": [
    {
     "output_type": "execute_result",
     "data": {
      "text/plain": [
       "(15, 1)"
      ]
     },
     "metadata": {},
     "execution_count": 6
    }
   ],
   "metadata": {}
  },
  {
   "cell_type": "code",
   "execution_count": 7,
   "source": [
    "preprocessor = Preprocessor(vocab_size=1000, seq_len=10)"
   ],
   "outputs": [],
   "metadata": {}
  },
  {
   "cell_type": "code",
   "execution_count": 8,
   "source": [
    "vocab = preprocessor.build_vocab(train_data)\r\n",
    "x_train_seq, y_train_seq = preprocessor(train_data, training=True)\r\n",
    "x_val_seq, y_val_seq = preprocessor(val_data, training=True)"
   ],
   "outputs": [],
   "metadata": {}
  },
  {
   "cell_type": "code",
   "execution_count": 9,
   "source": [
    "x_train_seq.shape, y_train_seq.shape, x_val_seq.shape, y_val_seq.shape"
   ],
   "outputs": [
    {
     "output_type": "execute_result",
     "data": {
      "text/plain": [
       "(TensorShape([15, 10]),\n",
       " TensorShape([15, 10]),\n",
       " TensorShape([5, 10]),\n",
       " TensorShape([5, 10]))"
      ]
     },
     "metadata": {},
     "execution_count": 9
    }
   ],
   "metadata": {}
  },
  {
   "cell_type": "code",
   "execution_count": 10,
   "source": [
    "x_train_seq[:3]"
   ],
   "outputs": [
    {
     "output_type": "execute_result",
     "data": {
      "text/plain": [
       "<tf.Tensor: shape=(3, 10), dtype=int64, numpy=\n",
       "array([[ 2, 26, 41, 51, 18, 44,  4,  3,  0,  0],\n",
       "       [ 2, 13, 11, 33, 10,  4,  3,  0,  0,  0],\n",
       "       [ 2,  8, 18,  7, 36, 24,  7,  3,  0,  0]], dtype=int64)>"
      ]
     },
     "metadata": {},
     "execution_count": 10
    }
   ],
   "metadata": {}
  },
  {
   "cell_type": "code",
   "execution_count": 11,
   "source": [
    "print(\"few vocab tokens:\", vocab[:10])"
   ],
   "outputs": [
    {
     "output_type": "stream",
     "name": "stdout",
     "text": [
      "few vocab tokens: ['', '[UNK]', '[SURU]', '[KHATAM]', 'हूं', '।', 'नहीं', 'के', 'किसी', 'है']\n"
     ]
    }
   ],
   "metadata": {}
  },
  {
   "cell_type": "code",
   "execution_count": 12,
   "source": [
    "print(\"Vocab Size: \", preprocessor.vocab_size)"
   ],
   "outputs": [
    {
     "output_type": "stream",
     "name": "stdout",
     "text": [
      "Vocab Size:  60\n"
     ]
    }
   ],
   "metadata": {}
  },
  {
   "cell_type": "code",
   "execution_count": 23,
   "source": [
    "model = Poet(preprocessor=preprocessor, num_blocks=1, d_model=256, dff=512, heads=8, embedding_dims=100)\r\n",
    "model.compile(loss=MaskedLoss(), optimizer=tf.keras.optimizers.Adam(learning_rate=0.01), metrics=[MaskedAccuracy()])"
   ],
   "outputs": [],
   "metadata": {}
  },
  {
   "cell_type": "code",
   "execution_count": 24,
   "source": [
    "trigger_inputs = [[\"मै\"]]\r\n",
    "trigger_inputs = preprocessor(trigger_inputs, training=False)\r\n",
    "generator_callback = SeqGenerateCallback(trigger_inputs)"
   ],
   "outputs": [],
   "metadata": {}
  },
  {
   "cell_type": "code",
   "execution_count": 28,
   "source": [
    "history = model.fit(x=x_train_seq, y=y_train_seq, batch_size=5, epochs=10, callbacks=[generator_callback])"
   ],
   "outputs": [
    {
     "output_type": "stream",
     "name": "stdout",
     "text": [
      "Epoch 1/10\n",
      "3/3 [==============================] - 0s 22ms/step - loss: 1.1914 - Masked-Accuracy: 0.7500\n",
      "after epoch 0 model generates:\n",
      "actual sequence:  [[13 55 29 10  4  3  3  3  3  3]]\n",
      "generated text sequence:  [['सदियों इतिहासो में हुआ हूं']]\n",
      "Epoch 2/10\n",
      "3/3 [==============================] - 0s 18ms/step - loss: 0.9716 - Masked-Accuracy: 0.6429\n",
      "after epoch 1 model generates:\n",
      "actual sequence:  [[42 35 17  4  3  3  3  3  3  3]]\n",
      "generated text sequence:  [['तेरे पलटा और हूं']]\n",
      "Epoch 3/10\n",
      "3/3 [==============================] - 0s 20ms/step - loss: 1.0217 - Masked-Accuracy: 0.6774\n",
      "after epoch 2 model generates:\n",
      "actual sequence:  [[40 35 38  4  4  3  3  3  5  3]]\n",
      "generated text sequence:  [['दगाबाज पलटा देता हूं हूं']]\n",
      "Epoch 4/10\n",
      "3/3 [==============================] - 0s 19ms/step - loss: 0.8965 - Masked-Accuracy: 0.5938\n",
      "after epoch 3 model generates:\n",
      "actual sequence:  [[16 37 38 39  4  3  3  3  3  3]]\n",
      "generated text sequence:  [['भला धोखा देता दबकर हूं']]\n",
      "Epoch 5/10\n",
      "3/3 [==============================] - 0s 21ms/step - loss: 0.8761 - Masked-Accuracy: 0.7000\n",
      "after epoch 4 model generates:\n",
      "actual sequence:  [[13 13 17 10  4  3  3  3  3  3]]\n",
      "generated text sequence:  [['सदियों सदियों और हुआ हूं']]\n",
      "Epoch 6/10\n",
      "3/3 [==============================] - 0s 19ms/step - loss: 0.8689 - Masked-Accuracy: 0.8065\n",
      "after epoch 5 model generates:\n",
      "actual sequence:  [[40 37 17 46  4  3  3  3  3  3]]\n",
      "generated text sequence:  [['दगाबाज धोखा और जाता हूं']]\n",
      "Epoch 7/10\n",
      "3/3 [==============================] - 0s 20ms/step - loss: 0.7810 - Masked-Accuracy: 0.7097\n",
      "after epoch 6 model generates:\n",
      "actual sequence:  [[42 42 17  4  4  3  3  3  3  3]]\n",
      "generated text sequence:  [['तेरे तेरे और हूं हूं']]\n",
      "Epoch 8/10\n",
      "3/3 [==============================] - 0s 20ms/step - loss: 0.6916 - Masked-Accuracy: 0.7333\n",
      "after epoch 7 model generates:\n",
      "actual sequence:  [[13 21 17  4  3  3  3  3  3  3]]\n",
      "generated text sequence:  [['सदियों हाथो और हूं']]\n",
      "Epoch 9/10\n",
      "3/3 [==============================] - 0s 19ms/step - loss: 0.6258 - Masked-Accuracy: 0.7500\n",
      "after epoch 8 model generates:\n",
      "actual sequence:  [[16 37 51 44  4  3  3  3  3  3]]\n",
      "generated text sequence:  [['भला धोखा केवल तथ्य हूं']]\n",
      "Epoch 10/10\n",
      "3/3 [==============================] - 0s 19ms/step - loss: 0.6257 - Masked-Accuracy: 0.8333\n",
      "after epoch 9 model generates:\n",
      "actual sequence:  [[13 20 29 39  4  3  3  3  3  3]]\n",
      "generated text sequence:  [['सदियों हाथों में दबकर हूं']]\n"
     ]
    }
   ],
   "metadata": {}
  }
 ]
}