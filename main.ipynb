{
 "metadata": {
  "language_info": {
   "codemirror_mode": {
    "name": "ipython",
    "version": 3
   },
   "file_extension": ".py",
   "mimetype": "text/x-python",
   "name": "python",
   "nbconvert_exporter": "python",
   "pygments_lexer": "ipython3",
   "version": "3.8.10"
  },
  "orig_nbformat": 4,
  "kernelspec": {
   "name": "python3",
   "display_name": "Python 3.8.10 64-bit ('WindowsApps')"
  },
  "interpreter": {
   "hash": "9b7910a43f22d8687f0de6ecfce0c1865e7017eb5d643397fde905e2a9a5ff87"
  }
 },
 "nbformat": 4,
 "nbformat_minor": 2,
 "cells": [
  {
   "cell_type": "code",
   "execution_count": 2,
   "metadata": {},
   "outputs": [],
   "source": [
    "import numpy as np\n",
    "import tensorflow as tf\n",
    "import pandas as pd"
   ]
  },
  {
   "cell_type": "code",
   "execution_count": 28,
   "metadata": {},
   "outputs": [],
   "source": [
    "class FFN(tf.keras.layers.Layer):\n",
    "  def  __init__(self, d_model, dff):\n",
    "        super().__init__()\n",
    "        self.dense1 = tf.keras.layers.Dense(dff, activation=\"relu\")\n",
    "        self.dense2 = tf.keras.layers.Dense(d_model)\n",
    "\n",
    "  def call(self, inputs):\n",
    "        outputs = self.dense1(inputs)\n",
    "        outputs = self.dense2(outputs)\n",
    "        return outputs\n"
   ]
  },
  {
   "cell_type": "code",
   "execution_count": 34,
   "metadata": {},
   "outputs": [],
   "source": [
    "class Block(tf.keras.layers.Layer):\n",
    "    def __init__(self, d_model: int, dff: int = 2048, heads: int = 8):\n",
    "        super().__init__()\n",
    "\n",
    "        #parameters\n",
    "        self.d_model = d_model      #model dims \n",
    "        self.dff = dff                           # ffn dense layer units\n",
    "        self.heads = heads               # number of heads\n",
    "\n",
    "        #layers\n",
    "        self.ffn = FFN(d_model, dff)\n",
    "        self.mha = tf.keras.layers.MultiHeadAttention(num_heads=heads, key_dim=d_model)\n",
    "        self.ln1 = tf.keras.layers.LayerNormalization()\n",
    "        self.ln2 = tf.keras.layers.LayerNormalization()\n",
    "\n",
    "    def call(self, inputs, mask):\n",
    "        attention_outputs = self.mha(query=inputs, value=inputs, attention_mask=mask)       # output shape (None, query_len, d_model)\n",
    "        outputs = self.ln1(inputs+attention_outputs)\n",
    "        ffn_outputs = self.ffn(outputs)     # output shape (None, query_len, d_model)\n",
    "        outputs = self.ln2(inputs+ffn_outputs)        # output shape (None, query_len, d_model)\n",
    "        return outputs"
   ]
  },
  {
   "cell_type": "code",
   "execution_count": 35,
   "metadata": {},
   "outputs": [
    {
     "output_type": "stream",
     "name": "stdout",
     "text": [
      "(None, 4, 16)\n"
     ]
    }
   ],
   "source": [
    "layer = Block(d_model=16, dff=2048, heads=8)\n",
    "mask = tf.keras.Input(shape=[4, 4])\n",
    "source = tf.keras.Input(shape=[4, 16])\n",
    "outputs = layer(inputs=source, mask=mask)\n",
    "print(outputs.shape)"
   ]
  },
  {
   "cell_type": "code",
   "execution_count": null,
   "metadata": {},
   "outputs": [],
   "source": []
  }
 ]
}