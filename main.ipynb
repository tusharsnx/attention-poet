{
 "metadata": {
  "language_info": {
   "codemirror_mode": {
    "name": "ipython",
    "version": 3
   },
   "file_extension": ".py",
   "mimetype": "text/x-python",
   "name": "python",
   "nbconvert_exporter": "python",
   "pygments_lexer": "ipython3",
   "version": "3.8.10"
  },
  "orig_nbformat": 4,
  "kernelspec": {
   "name": "python3",
   "display_name": "Python 3.8.10 64-bit ('WindowsApps')"
  },
  "interpreter": {
   "hash": "9b7910a43f22d8687f0de6ecfce0c1865e7017eb5d643397fde905e2a9a5ff87"
  }
 },
 "nbformat": 4,
 "nbformat_minor": 2,
 "cells": [
  {
   "cell_type": "code",
   "execution_count": 3,
   "metadata": {},
   "outputs": [],
   "source": [
    "import numpy as np\n",
    "import tensorflow as tf\n",
    "import pandas as pd"
   ]
  },
  {
   "cell_type": "code",
   "execution_count": 4,
   "metadata": {},
   "outputs": [],
   "source": [
    "class FFN(keras.layers.Layer):\n",
    "  def  __init__(self, d_model, dff):\n",
    "        super().__init__()\n",
    "        self.dense1 = tf.keras.layers.Dense(dff, activation=\"relu\")\n",
    "        self.dense2 = tf.keras.layers.Dense(d_model)\n",
    "\n",
    "def call(self, inputs):\n",
    "    outputs = dense1(inputs)\n",
    "    outputs = dense2(inputs)\n",
    "    return outputs\n"
   ]
  },
  {
   "cell_type": "code",
   "execution_count": null,
   "metadata": {},
   "outputs": [],
   "source": [
    "class Block(keras.layers.Layer):\n",
    "    def __init__(self, d_model: int, dff: int = 2048, heads: int = 8):\n",
    "        super().__init__()\n",
    "\n",
    "        #parameters\n",
    "        self.d_model = d_model\n",
    "        self.dff = dff\n",
    "        self.heads = heads\n",
    "\n",
    "        #layers\n",
    "        self.ffn = FFN(d_model, dff)\n",
    "        self.mha = tf.keras.layers.MultiHeadAttention(num_heads=heads, key_dim=d_model)"
   ]
  }
 ]
}